{
 "cells": [
  {
   "cell_type": "markdown",
   "id": "60678d01",
   "metadata": {},
   "source": [
    "# 🧪 Ejercicio Práctico: Encapsulamiento con Getters, Setters y Decoradores\n",
    "\n",
    "## 💡 Contexto\n",
    "\n",
    "Estás diseñando un sistema de control de temperatura para un laboratorio que almacena reactivos biológicos sensibles. Para garantizar que los valores no se alteren fuera de un rango permitido, necesitas implementar un sistema que valide y controle los cambios de temperatura dentro de un refrigerador inteligente.\n",
    "\n",
    "## 🎯 Objetivo\n",
    "\n",
    "Aplicar el principio de **encapsulamiento** en Python usando:\n",
    "\n",
    "- Atributos privados (`__atributo`)\n",
    "- Métodos de acceso (`getter` y `setter`)\n",
    "- Decoradores `@property` y `@nombre.setter`\n",
    "\n",
    "## 📋 Requisitos\n",
    "\n",
    "Crea una clase llamada `Refrigerator` que cumpla con las siguientes características:\n",
    "\n",
    "1. **Atributos:**\n",
    "   - `brand`: Nombre de la marca del refrigerador (público).\n",
    "   - `__temperature`: Temperatura interna en grados Celsius (privado).\n",
    "\n",
    "2. **Encapsulamiento:**\n",
    "   - Utilizar método tradicional de Get, Set, es decir def getVariable, setVariable\n",
    "   - Utiliza `@property` para crear un **getter** que permita acceder a la temperatura.\n",
    "   - Utiliza `@temperature.setter` para restringir la modificación de la temperatura al rango permitido de **-30°C a 10°C**.\n",
    "   - Si se intenta asignar un valor fuera de este rango, lanza una excepción `ValueError`.\n",
    "\n",
    "3. **Método adicional:**\n",
    "   - `display_status()`: Imprime un mensaje indicando si la temperatura es:\n",
    "     - `\"🟢 Óptima\"` si está entre -5°C y 5°C\n",
    "     - `\"🔵 Muy fría\"` si es menor a -5°C\n",
    "     - `\"🔴 Muy caliente\"` si es mayor a 5°C\n",
    "\n",
    "4. **Ejemplo de uso:**\n",
    "   - Instancia un objeto con marca `\"ArcticTech\"` y temperatura inicial de `-10`.\n",
    "   - Muestra el estado.\n",
    "   - Cambia la temperatura a `4` y muestra el nuevo estado.\n",
    "   - Intenta asignar una temperatura de `15` (debe lanzar un error).\n",
    "\n",
    "## 🧠 Sugerencia\n",
    "\n",
    "Este ejercicio forma parte del tema **Encapsulamiento y Métodos de Acceso** de la Unidad 1.2 del curso. Asegúrate de aplicar buenas prácticas y validaciones antes de modificar atributos privados.\n",
    "\n",
    "---\n",
    "\n"
   ]
  },
  {
   "cell_type": "markdown",
   "id": "da13f82d",
   "metadata": {},
   "source": []
  }
 ],
 "metadata": {
  "kernelspec": {
   "display_name": "base",
   "language": "python",
   "name": "python3"
  },
  "language_info": {
   "name": "python",
   "version": "3.12.7"
  }
 },
 "nbformat": 4,
 "nbformat_minor": 5
}
